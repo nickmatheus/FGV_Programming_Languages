{
 "cells": [
  {
   "cell_type": "markdown",
   "metadata": {},
   "source": [
    "### Vejamos algumas das bibliotecas mais utilizadas e suas descrições:"
   ]
  },
  {
   "cell_type": "markdown",
   "metadata": {},
   "source": [
    "- < assert.h >\n",
    "\n",
    "Implementa ajuda na detecção de erros em versões de depuração de programas."
   ]
  },
  {
   "cell_type": "markdown",
   "metadata": {},
   "source": [
    "- < complex.h >\n",
    "\n",
    "Trata da manipulação de números complexos. "
   ]
  },
  {
   "cell_type": "markdown",
   "metadata": {},
   "source": [
    "- < ctype.h >\n",
    "\n",
    "Funções para conversão de maiúsculas, minúsculas e outros tratamentos de caracteres."
   ]
  },
  {
   "cell_type": "markdown",
   "metadata": {},
   "source": [
    "- < errno.h >\n",
    "\n",
    "Teste de códigos de erro reportados pelas funções de bibliotecas."
   ]
  },
  {
   "cell_type": "markdown",
   "metadata": {},
   "source": [
    " - < fenv.h >\n",
    "\n",
    "Define várias funções e macros para tratar de exceções em variáveis do tipo ponto flutuante."
   ]
  },
  {
   "cell_type": "markdown",
   "metadata": {},
   "source": [
    "- < float.h >\n",
    "\n",
    "Define limites e precisão de variáveis de ponto flutuante."
   ]
  },
  {
   "cell_type": "markdown",
   "metadata": {},
   "source": [
    "- < inttypes.h >\n",
    "\n",
    "Trata de conversão precisa entre tipos inteiros."
   ]
  },
  {
   "cell_type": "markdown",
   "metadata": {},
   "source": [
    "- < iso646.h >\n",
    "\n",
    "Adiciona a possibilidade de programação usando a codificação de caracteres¨de acordo com a ISO646."
   ]
  },
  {
   "cell_type": "markdown",
   "metadata": {},
   "source": [
    "- < limits.h >\n",
    "\n",
    "Constantes de propriedades específicas de implementação da biblioteca de tipos inteiros, como a faixa de números que pode ser representada (_MIN, _MAX)."
   ]
  },
  {
   "cell_type": "markdown",
   "metadata": {},
   "source": [
    "- < locale.h >\n",
    "\n",
    "Especifica constantes de acordo com a localização específica, como moeda, data, etc."
   ]
  },
  {
   "cell_type": "markdown",
   "metadata": {},
   "source": [
    "- < math.h >\n",
    "\n",
    "Funções matemáticas comuns em computação."
   ]
  },
  {
   "cell_type": "markdown",
   "metadata": {},
   "source": [
    "- < setjmp.h >\n",
    "\n",
    "Define as macros setjmp e longjmp, para saídas não locais e tratamento de execeções."
   ]
  },
  {
   "cell_type": "markdown",
   "metadata": {},
   "source": [
    "- < signal.h >\n",
    "\n",
    "Implementa definições para receber e fazer o tratamento de sinais."
   ]
  },
  {
   "cell_type": "markdown",
   "metadata": {},
   "source": [
    "- < stdarg.h >\n",
    "\n",
    "Acesso dos argumentos passados para funções com parâmetro variável."
   ]
  },
  {
   "cell_type": "markdown",
   "metadata": {},
   "source": [
    "- < stdbool.h >\n",
    "\n",
    "Trata da definição para tipo de dados booleano."
   ]
  },
  {
   "cell_type": "markdown",
   "metadata": {},
   "source": [
    "- < stdint.h >\n",
    "\n",
    "Padrões de definição de tipos de dados inteiros."
   ]
  },
  {
   "cell_type": "markdown",
   "metadata": {},
   "source": [
    "- < stddef.h >\n",
    "\n",
    "Padrões de definições de tipos."
   ]
  },
  {
   "cell_type": "markdown",
   "metadata": {},
   "source": [
    "- < stdio.h >\n",
    "\n",
    "Tratamento de entrada/saída."
   ]
  },
  {
   "cell_type": "markdown",
   "metadata": {},
   "source": [
    "- < stdlib.h >\n",
    "\n",
    "Implementa funções para diversas operações, incluindo conversão,  alocação de memória, controle de processo, funções de busca e ordenação."
   ]
  },
  {
   "cell_type": "markdown",
   "metadata": {},
   "source": [
    "- < string.h >\n",
    "\n",
    "Tratamento de  strings."
   ]
  },
  {
   "cell_type": "markdown",
   "metadata": {},
   "source": [
    "- < tgmath.h >\n",
    "\n",
    "Implementa facilidades para utilização de funções matemáticas."
   ]
  },
  {
   "cell_type": "markdown",
   "metadata": {},
   "source": [
    "- < time.h >\n",
    "\n",
    "Trata de tipos de data e hora."
   ]
  },
  {
   "cell_type": "markdown",
   "metadata": {},
   "source": [
    "- < wchar.h >\n",
    "\n",
    "Tratamento de caracteres para suportar diversas línguas."
   ]
  },
  {
   "cell_type": "markdown",
   "metadata": {},
   "source": [
    "- < wctype.h >\n",
    "\n",
    "Contém funções para classificação de caracteres wide."
   ]
  },
  {
   "cell_type": "code",
   "execution_count": null,
   "metadata": {
    "collapsed": true
   },
   "outputs": [],
   "source": []
  }
 ],
 "metadata": {
  "kernelspec": {
   "display_name": "C",
   "language": "c",
   "name": "c"
  },
  "language_info": {
   "file_extension": ".c",
   "mimetype": "text/plain",
   "name": "c"
  }
 },
 "nbformat": 4,
 "nbformat_minor": 2
}
