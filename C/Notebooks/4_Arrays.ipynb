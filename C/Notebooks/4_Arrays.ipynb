{
 "cells": [
  {
   "cell_type": "markdown",
   "metadata": {},
   "source": [
    "### Matrizes \n",
    "\n",
    "As matrizes são variáveis especiais que podem conter mais de um valor usando a mesma variável, usando um índice. As matrizes são definidas em uma sintaxe muito direta:"
   ]
  },
  {
   "cell_type": "markdown",
   "metadata": {},
   "source": [
    "int numbers[10]; Definimos, assim, uma matriz com 10 inteiros."
   ]
  },
  {
   "cell_type": "markdown",
   "metadata": {},
   "source": [
    "Acessar um número da matriz é feito usando a mesma sintaxe. Observe que os arrays em C são baseados em zero, o que significa que, se definimos uma matriz de tamanho 10, as células da matriz de 0 a 9 (inclusive) são definidas. numbers[10] não é um valor real, isto é:\n",
    "- A primeira posição de um vetor tem índice zero\n",
    "- A última posição de um vetor tem índice igual ao (número de posições - 1)."
   ]
  },
  {
   "cell_type": "code",
   "execution_count": 2,
   "metadata": {},
   "outputs": [
    {
     "name": "stderr",
     "output_type": "stream",
     "text": []
    },
    {
     "name": "stdout",
     "output_type": "stream",
     "text": [
      "The 7th number in the array is 70"
     ]
    }
   ],
   "source": [
    "#include <stdio.h>\n",
    "\n",
    "int main() {\n",
    "  int numbers[10];\n",
    "\n",
    "/* populate the array */\n",
    "numbers[0] = 10;\n",
    "numbers[1] = 20;\n",
    "numbers[2] = 30;\n",
    "numbers[3] = 40;\n",
    "numbers[4] = 50;\n",
    "numbers[5] = 60;\n",
    "numbers[6] = 70;\n",
    "\n",
    "/* print the 7th number from the array, which has an index of 6 */\n",
    "printf(\"The 7th number in the array is %d\", numbers[6]);\n",
    "  return 0;\n",
    "}"
   ]
  },
  {
   "cell_type": "markdown",
   "metadata": {},
   "source": [
    "As matrizes só podem ter um tipo de variável pois elas são implementadas como uma sequência de valores na memória do computador. Dessa forma, acessar uma célula de uma matriz aleatória é muito eficiente."
   ]
  },
  {
   "cell_type": "markdown",
   "metadata": {
    "collapsed": true
   },
   "source": [
    "### Declarando e inicializando vetores:\n",
    "\n",
    "Exemplo 1:\n",
    "\n"
   ]
  }
 ],
 "metadata": {
  "kernelspec": {
   "display_name": "C",
   "language": "c",
   "name": "c"
  },
  "language_info": {
   "file_extension": ".c",
   "mimetype": "text/plain",
   "name": "c"
  }
 },
 "nbformat": 4,
 "nbformat_minor": 2
}
