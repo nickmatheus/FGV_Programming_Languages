{
 "cells": [
  {
   "cell_type": "markdown",
   "metadata": {},
   "source": [
    "## Static\n",
    "\n",
    "É uma palavra-chave de C que é usada em variáveis e funções."
   ]
  },
  {
   "cell_type": "markdown",
   "metadata": {},
   "source": [
    "#### O que é uma variável estática????"
   ]
  },
  {
   "cell_type": "markdown",
   "metadata": {},
   "source": [
    "Por padrão, a variável é local para o escopo no qual eles estão definidos. A variável é declarada como estática para aumentar seu escopo até o arquivo que os contém. Como resultado, esses varibales são acessados em qualquer lugar dentro de um arquivo. Considere que queremos contar os corredores que participam de uma corrida"
   ]
  },
  {
   "cell_type": "code",
   "execution_count": 2,
   "metadata": {},
   "outputs": [
    {
     "name": "stderr",
     "output_type": "stream",
     "text": []
    },
    {
     "name": "stdout",
     "output_type": "stream",
     "text": [
      "1 1 "
     ]
    }
   ],
   "source": [
    "#include<stdio.h>\n",
    "int runner() {\n",
    "    int count = 0;\n",
    "    count++;\n",
    "    return count;\n",
    "}\n",
    "\n",
    "int main()\n",
    "{\n",
    "    printf(\"%d \", runner());\n",
    "    printf(\"%d \", runner());\n",
    "    return 0;\n",
    "}"
   ]
  },
  {
   "cell_type": "markdown",
   "metadata": {},
   "source": [
    "Veremos que count não é carregado corretamente, pois é removido damemória assim que a função é completa, entretanto se usamos static:"
   ]
  },
  {
   "cell_type": "code",
   "execution_count": 3,
   "metadata": {},
   "outputs": [
    {
     "name": "stderr",
     "output_type": "stream",
     "text": []
    },
    {
     "name": "stdout",
     "output_type": "stream",
     "text": [
      "1 2 "
     ]
    }
   ],
   "source": [
    "#include<stdio.h>\n",
    "int runner()\n",
    "{\n",
    "    static int count = 0;\n",
    "    count++;\n",
    "    return count;\n",
    "}\n",
    "\n",
    "int main()\n",
    "{\n",
    "    printf(\"%d \", runner());\n",
    "    printf(\"%d \", runner());\n",
    "    return 0;\n",
    "}"
   ]
  },
  {
   "cell_type": "markdown",
   "metadata": {},
   "source": [
    "#### O que é uma função estática???"
   ]
  },
  {
   "cell_type": "markdown",
   "metadata": {},
   "source": [
    "Funções, normalmente, são globais em C. No entanto, se declararmos com estática, o escopo de funções é reduzido ao arquivo que os contém. \n",
    "Veja a sintaxe:"
   ]
  },
  {
   "cell_type": "code",
   "execution_count": 8,
   "metadata": {},
   "outputs": [
    {
     "name": "stderr",
     "output_type": "stream",
     "text": [
      "/tmp/tmpkh2j3vq1.c: In function ‘main’:\n",
      "/tmp/tmpkh2j3vq1.c:4:16: error: invalid storage class for function ‘fun’\n",
      "     static int fun() {\n",
      "                ^~~\n",
      "[C kernel] GCC exited with code 1, the executable will not be executed"
     ]
    },
    {
     "name": "stdout",
     "output_type": "stream",
     "text": []
    }
   ],
   "source": [
    "#include <stdio.h>\n",
    "\n",
    "int main() {\n",
    "    static int fun(void) {\n",
    "       printf(\"I am a static function.\");\n",
    "    }\n",
    "    \n",
    "\n",
    "return 0;\n",
    "}\n"
   ]
  },
  {
   "cell_type": "markdown",
   "metadata": {},
   "source": [
    "#### Estático Vs Global\n",
    "\n",
    "Como sabemos, as variáveis estáticas têm um escopo como o arquivo que os contém, tornando-os acessíveis apenas dentro do arquivo, a variável global também pode ser acessada fora do arquivo."
   ]
  },
  {
   "cell_type": "code",
   "execution_count": null,
   "metadata": {
    "collapsed": true
   },
   "outputs": [],
   "source": []
  }
 ],
 "metadata": {
  "kernelspec": {
   "display_name": "C",
   "language": "c",
   "name": "c"
  },
  "language_info": {
   "file_extension": ".c",
   "mimetype": "text/plain",
   "name": "c"
  }
 },
 "nbformat": 4,
 "nbformat_minor": 2
}
